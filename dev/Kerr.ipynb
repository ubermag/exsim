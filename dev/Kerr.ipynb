{
 "cells": [
  {
   "cell_type": "markdown",
   "id": "7a809f70",
   "metadata": {},
   "source": [
    "# Kerr Microscopy\n"
   ]
  },
  {
   "cell_type": "code",
   "execution_count": 1,
   "id": "60b4e93e",
   "metadata": {},
   "outputs": [],
   "source": [
    "%matplotlib inline\n",
    "import discretisedfield as df\n",
    "import numpy as np\n",
    "import mag2exp"
   ]
  },
  {
   "cell_type": "code",
   "execution_count": 2,
   "id": "ba90476d",
   "metadata": {},
   "outputs": [],
   "source": [
    "mesh = df.Mesh(p1=(-25e-9, -25e-9, -25e-9),\n",
    "               p2=(25e-9, 25e-9, 25e-9),\n",
    "               cell=(1e-9, 1e-9, 1e-9))\n",
    "def v_fun(point):\n",
    "    x, y, z = point\n",
    "    q = 10e-9\n",
    "    return (0,\n",
    "            np.sin(2 * np.pi * x / q),\n",
    "            np.cos(2 * np.pi * x / q))\n",
    "field = df.Field(mesh, dim=3, value=v_fun, norm=1e5)"
   ]
  },
  {
   "cell_type": "code",
   "execution_count": 3,
   "id": "09f81f5f",
   "metadata": {},
   "outputs": [
    {
     "name": "stderr",
     "output_type": "stream",
     "text": [
      "c:\\users\\samjr_ym2i32\\onedrive - university of warwick\\ubermag_pd\\ubermag_dev\\mag2exp\\mag2exp\\moke.py:486: UserWarning: This technique is currently under development so results may not be accurate. Please see the documentation for further details.\n",
      "  warnings.warn('This technique is currently under development so results'\n"
     ]
    }
   ],
   "source": [
    "E_i = [1, 1j]\n",
    "e_field = mag2exp.moke.intensity(field, 0, 2, 1, 600e-9, E_i,\n",
    "                                 mode='reflection')"
   ]
  },
  {
   "cell_type": "code",
   "execution_count": 5,
   "id": "4630f17a",
   "metadata": {},
   "outputs": [],
   "source": [
    "1\n",
    "e_field = mag2exp.moke.intensity(field, 0, 2, 1, 600e-9, E_i, mode='reflection')"
   ]
  },
  {
   "cell_type": "code",
   "execution_count": 8,
   "id": "2e6dd813",
   "metadata": {},
   "outputs": [
    {
     "ename": "TypeError",
     "evalue": "category must be a Warning subclass, not 'str'",
     "output_type": "error",
     "traceback": [
      "\u001b[1;31m---------------------------------------------------------------------------\u001b[0m",
      "\u001b[1;31mTypeError\u001b[0m                                 Traceback (most recent call last)",
      "\u001b[1;32m<ipython-input-8-466d79e7c1e8>\u001b[0m in \u001b[0;36m<module>\u001b[1;34m\u001b[0m\n\u001b[0;32m      1\u001b[0m \u001b[1;32mimport\u001b[0m \u001b[0mwarnings\u001b[0m\u001b[1;33m\u001b[0m\u001b[1;33m\u001b[0m\u001b[0m\n\u001b[1;32m----> 2\u001b[1;33m \u001b[0mwarnings\u001b[0m\u001b[1;33m.\u001b[0m\u001b[0mwarn\u001b[0m\u001b[1;33m(\u001b[0m\u001b[1;34m'msg'\u001b[0m\u001b[1;33m,\u001b[0m\u001b[1;34m'always'\u001b[0m\u001b[1;33m)\u001b[0m\u001b[1;33m\u001b[0m\u001b[1;33m\u001b[0m\u001b[0m\n\u001b[0m",
      "\u001b[1;31mTypeError\u001b[0m: category must be a Warning subclass, not 'str'"
     ]
    }
   ],
   "source": [
    "import warnings\n",
    "warnings.warn('msg','always')"
   ]
  },
  {
   "cell_type": "code",
   "execution_count": 6,
   "id": "e9c73c3f",
   "metadata": {},
   "outputs": [],
   "source": [
    "E_i = [1, 1j]\n",
    "e_field = mag2exp.moke.intensity(field, 0, 2, 1, 600e-9, E_i,\n",
    "                                 mode='reflection')"
   ]
  },
  {
   "cell_type": "code",
   "execution_count": null,
   "id": "e0ae10b2",
   "metadata": {},
   "outputs": [],
   "source": [
    ">>> import discretisedfield as df\n",
    ">>> import micromagneticmodel as mm\n",
    ">>> import numpy as np\n",
    ">>> import mag2exp\n",
    ">>> mesh = df.Mesh(p1=(-25e-9, -25e-9, -25e-9),\n",
    "...                p2=(25e-9, 25e-9, 25e-9),\n",
    "...                cell=(1e-9, 1e-9, 1e-9))\n",
    ">>> def v_fun(point):\n",
    "...     x, y, z = point\n",
    "...     q = 10e-9\n",
    "...     return (0,\n",
    "...             np.sin(2 * np.pi * x / q),\n",
    "...             np.cos(2 * np.pi * x / q))\n",
    ">>> field = df.Field(mesh, dim=3, value=v_fun, norm=1e5)\n",
    ">>> E_i = [1, 1j]\n",
    ">>> intensity = mag2exp.moke.intensity(field, 0, 2, 1, 600e-9, E_i,\n",
    "...                                    mode='reflection')\n",
    ">>> intensity.mpl()"
   ]
  },
  {
   "cell_type": "code",
   "execution_count": null,
   "id": "d592bc06",
   "metadata": {},
   "outputs": [],
   "source": [
    ">>> intensity2 = mag2exp.moke.intensity(field, 0, 2, 1, 600e-9, E_i,\n",
    "...                                     mode='reflection', fwhm=(10e-9, 10e-9))\n",
    ">>> intensity2.mpl()"
   ]
  },
  {
   "cell_type": "code",
   "execution_count": null,
   "id": "d475dc50",
   "metadata": {},
   "outputs": [],
   "source": [
    "angle.array.all() != 0"
   ]
  },
  {
   "cell_type": "code",
   "execution_count": null,
   "id": "a457bdce",
   "metadata": {},
   "outputs": [],
   "source": [
    "E_f = mag2exp.moke.e_field(field, 0, 2, 1, 600e-9, E_i, mode='reflection')"
   ]
  },
  {
   "cell_type": "code",
   "execution_count": null,
   "id": "aa490674",
   "metadata": {},
   "outputs": [],
   "source": [
    "E_f.s.mpl.scalar()"
   ]
  },
  {
   "cell_type": "code",
   "execution_count": null,
   "id": "720fb1da",
   "metadata": {},
   "outputs": [],
   "source": [
    "E_f.p"
   ]
  },
  {
   "cell_type": "code",
   "execution_count": null,
   "id": "912351e1",
   "metadata": {},
   "outputs": [],
   "source": [
    "import numpy as np"
   ]
  },
  {
   "cell_type": "markdown",
   "id": "1dd12409",
   "metadata": {},
   "source": [
    "\\begin{equation}\n",
    "    A_{j} =\n",
    "    \\begin{pmatrix}\n",
    "    1 & 0 & 1 & 0 \\\\\n",
    "    \\frac{iQ\\alpha^2_{yi}}{2} \\left(m_y \\frac{1+\\alpha^2_{zi}}{\\alpha_{yi}\\alpha_{zi}} - m_z\\right) & \\alpha_{zi} &\n",
    "    -\\frac{iQ\\alpha^2_{yi}}{2} \\left(m_y \\frac{1+\\alpha^2_{zi}}{\\alpha_{yi}\\alpha_{zi}} + m_z\\right) & -\\alpha_{zi} \\\\\n",
    "    -\\frac{in_jQ}{2} \\left(m_y \\alpha_{yi} + m_z \\alpha_{zi} \\right) & -n_j &\n",
    "    -\\frac{in_jQ}{2} \\left(m_y \\alpha_{yi} - m_z \\alpha_{zi} \\right) & -n_j \\\\\n",
    "    n_j\\alpha_{zj} & -\\frac{in_jQ}{2} \\left(m_y \\frac{\\alpha_{yi}}{\\alpha_{zi}} - m_z \\right) & -n_j \\alpha_{zj} &\n",
    "    \\frac{in_jQ}{2} \\left(m_y \\frac{\\alpha_{yi}}{\\alpha_{zi}} + m_z \\right)\n",
    "    \\end{pmatrix}\n",
    "\\end{equation}\n",
    "$\\alpha_{yi}=\\sin\\theta_j, \\alpha_{zi}=\\cos\\theta_j$"
   ]
  },
  {
   "cell_type": "code",
   "execution_count": null,
   "id": "50bfce14",
   "metadata": {},
   "outputs": [],
   "source": [
    "def calculate_A(theta_j, nj, Q, mx_arr, my_arr, mz_arr):\n",
    "    a_yj = np.sin(theta_j)\n",
    "    a_zj = np.cos(theta_j)\n",
    "    \n",
    "    s = np.shape(mx_arr)\n",
    "    mx_arr = mx_arr.flatten()\n",
    "    my_arr = my_arr.flatten()\n",
    "    mz_arr = mz_arr.flatten()\n",
    "    \n",
    "    A = []\n",
    "\n",
    "    for (mx, my, mz) in zip(mx_arr, my_arr, mz_arr):\n",
    "    \n",
    "        A.append([[1, 0, 1, 0],\n",
    "                  [(1j*Q)*(a_yj*my*(1+a_zj**2)/a_zj - mz*a_yj**2)/2, a_zj,\n",
    "                    -(1j*Q)/2 * (a_yj*my*(1+a_zj**2)/a_zj + mz*a_yj**2), -a_zj],\n",
    "                  [-(1j*Q*nj)/2 * (my*a_yj + mz*a_zj), -nj, -(1j*Q*nj)/2 * (my*a_yj - mz*a_zj), -nj],\n",
    "                  [nj*a_zj, -(1j*Q*nj)/2 * (my*a_yj/a_zj - mz), -nj*a_zj, (1j*Q*nj)/2 * (my*a_yj/a_zj + mz)]])\n",
    "    return np.reshape(A, (*s,4,4))"
   ]
  },
  {
   "cell_type": "code",
   "execution_count": null,
   "id": "23df8ede",
   "metadata": {},
   "outputs": [],
   "source": [
    "A = calculate_A(0, 1, 1, np.array(1), np.array(1), np.array(1))\n",
    "normal_incidence_A = np.array([[1,0,1,0],[0,1,0,-1],[-0.5j, -1, 0.5j, -1], [1, 0.5j, -1, 0.5j]])\n",
    "np.allclose(A, normal_incidence_A)"
   ]
  },
  {
   "cell_type": "markdown",
   "id": "45aa47fd",
   "metadata": {},
   "source": [
    "\\begin{equation}\n",
    "    D_{j} =\n",
    "    \\begin{pmatrix}\n",
    "    U\\cos\\delta^i & U\\sin\\delta^i & 0 & 0 \\\\\n",
    "    -U\\sin\\delta^i & U\\cos\\delta^i & 0 & 0 \\\\\n",
    "    0 & 0 & U^{-1}\\cos\\delta^r & U^{-1}\\sin\\delta^r \\\\\n",
    "    0 & 0 & -U^{-1}\\sin\\delta^r & U^{-1}\\cos\\delta^r\n",
    "    \\end{pmatrix}\n",
    "\\end{equation}\n",
    "\n",
    "\\begin{align}\n",
    "    U &= \\exp\\left(\\frac{-i2\\pi n_j \\alpha_{zj} d_j}{\\lambda} \\right)\\\\ \n",
    "    \\delta^i &= -\\frac{\\pi n_j Q d_j g^i}{\\lambda \\alpha_{zj}} \\\\\n",
    "    \\delta^r &= -\\frac{\\pi n_j Q d_j g^r}{\\lambda \\alpha_{zj}} \\\\\n",
    "    g^i &= m_z \\alpha_{zj} + m_y \\alpha_{yj} \\\\\n",
    "    g^r &= m_z \\alpha_{zj} - m_y \\alpha_{yj}\n",
    "\\end{align}"
   ]
  },
  {
   "cell_type": "code",
   "execution_count": null,
   "id": "655be4c5",
   "metadata": {},
   "outputs": [],
   "source": [
    "def calculate_D(theta_j, nj, Q, dj, wavelength, mx_arr, my_arr, mz_arr):\n",
    "    a_yj = np.sin(theta_j)\n",
    "    a_zj = np.cos(theta_j)\n",
    "    s = np.shape(mx_arr)\n",
    "    mx_arr = mx_arr.flatten()\n",
    "    my_arr = my_arr.flatten()\n",
    "    mz_arr = mz_arr.flatten()\n",
    "\n",
    "    D = []\n",
    "    for (mx, my, mz) in zip(mx_arr, my_arr, mz_arr):\n",
    "        gi = mz*a_zj + my*a_yj\n",
    "        gr = mz*a_zj - my*a_yj\n",
    "        di = -np.pi*nj*Q*dj*gi/(wavelength*a_zj)\n",
    "        dr = -np.pi*nj*Q*dj*gr/(wavelength*a_zj)\n",
    "        U = np.exp(-2j*np.pi*nj*a_zj*dj/wavelength)\n",
    "\n",
    "        D.append([[U*np.cos(di), U*np.sin(di), 0, 0],\n",
    "            [-U*np.sin(di), U*np.cos(di), 0, 0],\n",
    "            [0, 0, np.cos(dr)/U, np.sin(dr)/U],\n",
    "            [0, 0, -np.sin(dr)/U, np.cos(dr)]])\n",
    "        \n",
    "    return np.reshape(D, (*s,4,4))"
   ]
  },
  {
   "cell_type": "code",
   "execution_count": null,
   "id": "814f807f",
   "metadata": {},
   "outputs": [],
   "source": [
    "D = calculate_D(1e-10, 1, 1, 1, 1, np.array(1), np.array(1), np.array(1))\n",
    "normal_incidence_D = np.array([[-np.exp(-2j*np.pi),0,0,0],[0,-np.exp(-2j*np.pi),0,0],[0, 0, -1/np.exp(-2j*np.pi), 0], [0, 0, 0, -1/np.exp(-2j*np.pi)]])\n",
    "np.allclose(D, normal_incidence_D)"
   ]
  },
  {
   "cell_type": "markdown",
   "id": "39cebff7",
   "metadata": {},
   "source": [
    "\\begin{equation}\n",
    "    n_0 \\sin\\theta_0 = n_1 \\sin\\theta_1\n",
    "\\end{equation}"
   ]
  },
  {
   "cell_type": "code",
   "execution_count": null,
   "id": "e465dea9",
   "metadata": {},
   "outputs": [],
   "source": [
    "def theta1(theta0, n0, n1):\n",
    "    return np.arcsin((n0*np.sin(theta0))/n1)"
   ]
  },
  {
   "cell_type": "markdown",
   "id": "8533485a",
   "metadata": {},
   "source": [
    "e.g.\n",
    "\\begin{equation}\n",
    "    M = A^{-1}_0  A_1 D_1 A^{-1}_1 A_2\n",
    "\\end{equation}"
   ]
  },
  {
   "cell_type": "code",
   "execution_count": null,
   "id": "e0c65750",
   "metadata": {},
   "outputs": [],
   "source": [
    "theta = 1.04\n",
    "\n",
    "A = calculate_A(theta, 1, 0, np.array(1), np.array(1), np.array(1))\n",
    "M = np.linalg.inv(A)\n",
    "theta = theta1(theta, 1, 2)\n",
    "A = calculate_A(theta, 2, 1, np.array(1), np.array(1), np.array(1))\n",
    "M = np.matmul(M, A)\n",
    "D = calculate_D(theta, 2, 1, 1, 10, np.array(1), np.array(1), np.array(1))\n",
    "M = np.matmul(M, D)\n",
    "A = calculate_A(theta, 2, 1, np.array(1), np.array(1), np.array(1))\n",
    "M = np.matmul(M, np.linalg.inv(A))\n",
    "theta = theta1(theta, 2, 1)\n",
    "A = calculate_A(theta, 1, 0, np.array(1), np.array(1), np.array(1))\n",
    "M = np.matmul(M, A)"
   ]
  },
  {
   "cell_type": "markdown",
   "id": "769018b9",
   "metadata": {},
   "source": [
    "\\begin{equation}\n",
    "    M = \\begin{pmatrix} G & H \\\\ I & J \\end{pmatrix}\n",
    "\\end{equation}\n",
    "\n",
    "\\begin{equation}\n",
    "    \\begin{pmatrix} r_{ss} & r_{sp} \\\\ r_{ps} & r_{pp} \\end{pmatrix}\n",
    "    = I G^{-1}\n",
    "\\end{equation}"
   ]
  },
  {
   "cell_type": "code",
   "execution_count": null,
   "id": "9110c2d4",
   "metadata": {},
   "outputs": [],
   "source": [
    "G = M[0:2, 0:2]\n",
    "I = M[2:4, 0:2]\n",
    "G_inv = np.linalg.inv(G)\n",
    "r = np.matmul(I, G_inv)"
   ]
  },
  {
   "cell_type": "markdown",
   "id": "7e361a51",
   "metadata": {},
   "source": [
    "\\begin{equation}\n",
    "    \\begin{pmatrix} E^r_s \\\\ E^r_p \\end{pmatrix} = \n",
    "    \\begin{pmatrix} r_{ss} & r_{sp} \\\\ r_{ps} & r_{pp} \\end{pmatrix}\n",
    "    \\begin{pmatrix} E^i_s \\\\ E^i_p \\end{pmatrix}\n",
    "\\end{equation}"
   ]
  },
  {
   "cell_type": "code",
   "execution_count": null,
   "id": "d446c190",
   "metadata": {},
   "outputs": [],
   "source": [
    "E_i = [0, 1]\n",
    "E_f = np.matmul(r, E_i)"
   ]
  },
  {
   "cell_type": "code",
   "execution_count": null,
   "id": "36d66962",
   "metadata": {},
   "outputs": [],
   "source": [
    "I = abs(E_f[0])**2 + abs(E_f[1])**2\n",
    "I"
   ]
  },
  {
   "cell_type": "markdown",
   "id": "37e487d1",
   "metadata": {},
   "source": [
    "Full Grid"
   ]
  },
  {
   "cell_type": "code",
   "execution_count": null,
   "id": "55a0bc93",
   "metadata": {},
   "outputs": [],
   "source": [
    "import oommfc as oc\n",
    "import discretisedfield as df\n",
    "import micromagneticmodel as mm\n",
    "import numpy as np\n",
    "import matplotlib.pyplot as plt"
   ]
  },
  {
   "cell_type": "code",
   "execution_count": null,
   "id": "e5c2cd57",
   "metadata": {},
   "outputs": [],
   "source": [
    "np.random.seed(1)\n",
    "region = df.Region(p1=(-150e-9, -150e-9, 0), p2=(150e-9, 150e-9, 5e-9))\n",
    "mesh = df.Mesh(region=region, cell=(5e-9, 5e-9, 5e-9))\n",
    "\n",
    "system = mm.System(name='Box2')\n",
    "\n",
    "system.energy = (mm.Exchange(A=1.6e-11)\n",
    "                 + mm.DMI(D=4e-3, crystalclass='Cnv') \n",
    "                 + mm.UniaxialAnisotropy(K=0.51e6, u=(0, 0, 1)) \n",
    "                 + mm.Demag()\n",
    "                 + mm.Zeeman(H=(0, 0, 2e5)))\n",
    "\n",
    "Ms = 1.1e6\n",
    "\n",
    "def m_fun(pos):\n",
    "    return 2 * np.random.rand(3) - 1\n",
    "\n",
    "# create system with above geometry and initial magnetisation\n",
    "system.m = df.Field(mesh, dim=3, value=m_fun, norm=Ms)\n",
    "system.m.plane('z').mpl()"
   ]
  },
  {
   "cell_type": "code",
   "execution_count": null,
   "id": "58b73f9f",
   "metadata": {},
   "outputs": [],
   "source": [
    "# NBVAL_IGNORE_OUTPUT\n",
    "# minimize the energy\n",
    "md = oc.MinDriver()\n",
    "md.drive(system)"
   ]
  },
  {
   "cell_type": "code",
   "execution_count": null,
   "id": "d2ea0867",
   "metadata": {},
   "outputs": [],
   "source": [
    "# Plot relaxed configuration: vectors in z-plane\n",
    "system.m.plane('z').mpl()"
   ]
  },
  {
   "cell_type": "code",
   "execution_count": null,
   "id": "da775c4f",
   "metadata": {},
   "outputs": [],
   "source": [
    "system.m.plane('x').mpl()"
   ]
  },
  {
   "cell_type": "code",
   "execution_count": null,
   "id": "554de042",
   "metadata": {},
   "outputs": [],
   "source": [
    "import mag2exp"
   ]
  },
  {
   "cell_type": "code",
   "execution_count": null,
   "id": "ee720f9f",
   "metadata": {},
   "outputs": [],
   "source": [
    "E_i = [1, 0]\n",
    "E_r = mag2exp.moke.e_field(system.m, 0, 2, 1, 600e-9, E_i, mode='reflection')"
   ]
  },
  {
   "cell_type": "code",
   "execution_count": null,
   "id": "04a49eb8",
   "metadata": {},
   "outputs": [],
   "source": [
    "E_i = [1, 1j]/np.sqrt(2)\n",
    "intensity_t = mag2exp.moke.intensity(system.m, 0, 2, 1, 600e-9, E_i, mode='t')"
   ]
  },
  {
   "cell_type": "code",
   "execution_count": null,
   "id": "64789d47",
   "metadata": {},
   "outputs": [],
   "source": [
    "intensity_t.mpl()"
   ]
  },
  {
   "cell_type": "code",
   "execution_count": null,
   "id": "b1719cff",
   "metadata": {},
   "outputs": [],
   "source": [
    "E_i = [1, 1j]/np.sqrt(2)\n",
    "intensity_r = mag2exp.moke.intensity(system.m, 0, 2, 1, 600e-9, E_i, mode='r')\n",
    "intensity_r.mpl()"
   ]
  },
  {
   "cell_type": "code",
   "execution_count": null,
   "id": "b0bd2895",
   "metadata": {},
   "outputs": [],
   "source": [
    "(intensity_r + intensity_t).mpl()"
   ]
  },
  {
   "cell_type": "code",
   "execution_count": null,
   "id": "57ffd279",
   "metadata": {},
   "outputs": [],
   "source": []
  },
  {
   "cell_type": "code",
   "execution_count": null,
   "id": "873404c4",
   "metadata": {},
   "outputs": [],
   "source": [
    "angle = mag2exp.moke.kerr_angle(system.m, 0, 2, 1, 600e-9, mode='reflection')"
   ]
  },
  {
   "cell_type": "code",
   "execution_count": null,
   "id": "bc5b551a",
   "metadata": {},
   "outputs": [],
   "source": [
    "angle.p.imag.mpl.scalar()"
   ]
  },
  {
   "cell_type": "code",
   "execution_count": null,
   "id": "7a97e17c",
   "metadata": {},
   "outputs": [],
   "source": [
    "intensity = mag2exp.moke.moke_intensity(system.m, 0, 2, 1, 600e-9, [1, 1j])"
   ]
  },
  {
   "cell_type": "code",
   "execution_count": null,
   "id": "bdbbe609",
   "metadata": {},
   "outputs": [],
   "source": [
    "intensity.mpl.scalar()"
   ]
  },
  {
   "cell_type": "raw",
   "id": "676c88ca",
   "metadata": {},
   "source": [
    "region = df.Region(p1=(-150e-9, -150e-9, 0), p2=(150e-9, 150e-9, 50e-9))\n",
    "mesh = df.Mesh(region=region, cell=(5e-9, 5e-9, 5e-9))\n",
    "\n",
    "system = mm.System(name='Box2')\n",
    "\n",
    "system.energy = (mm.Exchange(A=1.6e-11)\n",
    "                 + mm.DMI(D=4e-3, crystalclass='T') \n",
    "                 + mm.UniaxialAnisotropy(K=0.51e6, u=(0, 0, 1)) \n",
    "                 + mm.Demag()\n",
    "                 + mm.Zeeman(H=(0, 0, 2e5)))\n",
    "\n",
    "Ms = 1.1e6\n",
    "\n",
    "def m_fun(pos):\n",
    "    x, y, z = pos\n",
    "    \n",
    "    if x < -50e-9:\n",
    "        return (0,1,0)\n",
    "    elif x < 50e-9:\n",
    "        return (0,0,1)\n",
    "    else:\n",
    "        return (0,-1,0)\n",
    "\n",
    "# create system with above geometry and initial magnetisation\n",
    "system.m = df.Field(mesh, dim=3, value=m_fun, norm=Ms)\n",
    "system.m.plane('z').mpl()"
   ]
  },
  {
   "cell_type": "code",
   "execution_count": null,
   "id": "16630aba",
   "metadata": {},
   "outputs": [],
   "source": [
    "def calculate_M(field, theta, n, Q, wavelength):\n",
    "    field_arr = field.orientation.array\n",
    "    mx_arr = field_arr[..., 0]\n",
    "    my_arr = field_arr[..., 1]\n",
    "    mz_arr = field_arr[..., 2]\n",
    "    \n",
    "    # Free space\n",
    "    A = calculate_A(theta, 1, 0, mx_arr[...,0], my_arr[...,0], mz_arr[...,0])\n",
    "    M = np.linalg.inv(A)\n",
    "\n",
    "    # Sample\n",
    "    theta = theta1(theta, 1, n)\n",
    "    for i in reversed(range(mx_arr.shape[2])):  # Think about direction of loop \n",
    "        A = calculate_A(theta, n, Q, mx_arr[...,i], my_arr[...,i], mz_arr[...,i])\n",
    "        M = np.matmul(M, A)\n",
    "        D = calculate_D(theta, n, Q, field.mesh.dx, wavelength, mx_arr[...,i], my_arr[...,i], mz_arr[...,i])\n",
    "        M = np.matmul(M, D)\n",
    "        A = calculate_A(theta, n, Q, mx_arr[...,i], my_arr[...,i], mz_arr[...,i])\n",
    "        M = np.matmul(M, np.linalg.inv(A))\n",
    "    \n",
    "    # Free space\n",
    "    theta = theta1(theta, n, 1)\n",
    "    A = calculate_A(theta, 1, 0, mx_arr[...,0], my_arr[...,0], mz_arr[...,0])\n",
    "    M = np.matmul(M, A)\n",
    "    return M\n",
    "\n",
    "def calculate_r(M):\n",
    "    G = M[:, :, 0:2, 0:2]\n",
    "    I = M[:, :, 2:4, 0:2]\n",
    "    G_inv = np.linalg.inv(G)\n",
    "    return np.matmul(I,G_inv)\n",
    "\n",
    "def calculate_t(M):\n",
    "    G = M[:, :, 0:2, 0:2]\n",
    "    G_inv = np.linalg.inv(G)\n",
    "    return G_inv"
   ]
  },
  {
   "cell_type": "code",
   "execution_count": null,
   "id": "e32023b5",
   "metadata": {},
   "outputs": [],
   "source": [
    "M = calculate_M(system.m, 5*np.pi/180, 0.12+3.29j, 0.376+0.0066j, 600e-9)"
   ]
  },
  {
   "cell_type": "code",
   "execution_count": null,
   "id": "e9430e69",
   "metadata": {},
   "outputs": [],
   "source": [
    "r = calculate_r(M)"
   ]
  },
  {
   "cell_type": "code",
   "execution_count": null,
   "id": "ac8cbc2b",
   "metadata": {},
   "outputs": [],
   "source": [
    "r1 = r[0,0]"
   ]
  },
  {
   "cell_type": "code",
   "execution_count": null,
   "id": "4bb0012c",
   "metadata": {},
   "outputs": [],
   "source": [
    "a = r1[0,0]\n",
    "b = r1[0,1]\n",
    "c = r1[1,0]\n",
    "d = r1[1,1]"
   ]
  },
  {
   "cell_type": "code",
   "execution_count": null,
   "id": "3142eaad",
   "metadata": {},
   "outputs": [],
   "source": [
    "b/(np.sqrt(a)*np.sqrt(d))"
   ]
  },
  {
   "cell_type": "code",
   "execution_count": null,
   "id": "f98500e9",
   "metadata": {},
   "outputs": [],
   "source": [
    "c/(np.sqrt(a)*np.sqrt(d))"
   ]
  },
  {
   "cell_type": "code",
   "execution_count": null,
   "id": "56c80a8f",
   "metadata": {},
   "outputs": [],
   "source": [
    "E_i = np.array([1, 1j])  #/np.sqrt(2)\n",
    "E_r = np.matmul(r, E_i)"
   ]
  },
  {
   "cell_type": "code",
   "execution_count": null,
   "id": "3ea4bb38",
   "metadata": {
    "scrolled": false
   },
   "outputs": [],
   "source": [
    "I = np.abs(E_r[...,0])**2 + np.abs(E_r[...,1])**2\n",
    "Int = df.Field(mesh=system.m.integral('z').mesh, dim=1, value=I[..., np.newaxis, np.newaxis])\n",
    "Int.mpl.scalar(interpolation='spline16')"
   ]
  },
  {
   "cell_type": "code",
   "execution_count": null,
   "id": "1edd6e4f",
   "metadata": {
    "scrolled": false
   },
   "outputs": [],
   "source": [
    "I = np.abs(E_r[...,0])**2 + np.abs(E_r[...,1])**2\n",
    "Int = df.Field(mesh=system.m.integral('z').mesh, dim=1, value=I[..., np.newaxis, np.newaxis])\n",
    "Int.mpl.scalar(interpolation='spline16')"
   ]
  },
  {
   "cell_type": "code",
   "execution_count": null,
   "id": "cb95be66",
   "metadata": {},
   "outputs": [],
   "source": [
    "Kerr_angle = r[:,:,1,0]/r[:,:,0,0]"
   ]
  },
  {
   "cell_type": "code",
   "execution_count": null,
   "id": "0491c553",
   "metadata": {},
   "outputs": [],
   "source": [
    "ang = df.Field(mesh=system.m.integral('z').mesh, dim=1, value=Kerr_angle[..., np.newaxis, np.newaxis])\n",
    "ang.real.mpl.scalar(interpolation='spline16')\n",
    "ang.imag.mpl.scalar(interpolation='spline16')"
   ]
  },
  {
   "cell_type": "code",
   "execution_count": null,
   "id": "476fdaf0",
   "metadata": {},
   "outputs": [],
   "source": [
    "t = calculate_t(M)"
   ]
  },
  {
   "cell_type": "code",
   "execution_count": null,
   "id": "dd3178e0",
   "metadata": {},
   "outputs": [],
   "source": [
    "E_i = [1, 1j]\n",
    "E_t = np.matmul(t, E_i)"
   ]
  },
  {
   "cell_type": "code",
   "execution_count": null,
   "id": "1a4ba452",
   "metadata": {},
   "outputs": [],
   "source": [
    "I = np.abs(E_t[...,0])**2 + np.abs(E_t[...,1])**2\n",
    "Int = df.Field(mesh=system.m.integral('z').mesh, dim=1, value=I[..., np.newaxis, np.newaxis])\n",
    "Int.mpl.scalar(interpolation='spline16')"
   ]
  },
  {
   "cell_type": "code",
   "execution_count": null,
   "id": "4314a21e",
   "metadata": {},
   "outputs": [],
   "source": [
    "system.m.mesh."
   ]
  },
  {
   "cell_type": "code",
   "execution_count": null,
   "id": "db43327b",
   "metadata": {},
   "outputs": [],
   "source": [
    "slider_min = system.m.mesh.index2point((0, 0, 0))[2]\n",
    "slider_max = system.m.mesh.index2point(np.subtract(system.m.mesh.n, 1))[2]\n",
    "slider_step = system.m.mesh.cell[2]\n",
    "values = np.arange(slider_min, slider_max+1e-20, slider_step)"
   ]
  },
  {
   "cell_type": "code",
   "execution_count": null,
   "id": "42279d27",
   "metadata": {},
   "outputs": [],
   "source": [
    "values.shape"
   ]
  },
  {
   "cell_type": "markdown",
   "id": "1aa00c43",
   "metadata": {},
   "source": [
    "\\begin{equation}\n",
    "    \\epsilon = n^2_0 \n",
    "    \\begin{bmatrix}\n",
    "    1 & -iQm_z & iQm_y \\\\\n",
    "    iQm_z & 1 & -iQm_x \\\\\n",
    "    -iQm_y & iQm_x & 1 \n",
    "    \\end{bmatrix}\n",
    "\\end{equation}"
   ]
  },
  {
   "cell_type": "code",
   "execution_count": null,
   "id": "d8859cb9",
   "metadata": {},
   "outputs": [],
   "source": [
    "n_0 = 2\n",
    "Q = 0\n",
    "mx = my = mz = 1\n",
    "e = n_0**2 * np.array([[1, -1j*Q*mx, 1j*Q*my],[1j*Q*mz, 1, -1j*Q*mx],[-1j*Q*my, 1j*Q*mx, 1]])"
   ]
  },
  {
   "cell_type": "code",
   "execution_count": null,
   "id": "5b9cbf83",
   "metadata": {},
   "outputs": [],
   "source": [
    "theta = np.pi/4\n",
    "k = np.array([0, np.sin(theta), np.cos(theta)])"
   ]
  },
  {
   "cell_type": "code",
   "execution_count": null,
   "id": "a097ad81",
   "metadata": {},
   "outputs": [],
   "source": [
    "np.linalg.norm(np.dot(e, k))"
   ]
  },
  {
   "cell_type": "code",
   "execution_count": null,
   "id": "5ab228dc",
   "metadata": {},
   "outputs": [],
   "source": [
    "np.sqrt(np.dot(e, k))"
   ]
  },
  {
   "cell_type": "code",
   "execution_count": null,
   "id": "adf8cd2d",
   "metadata": {},
   "outputs": [],
   "source": [
    "M = mag2exp.moke._calculate_M(system.m, 0, 3, 1, 600e-9)\n",
    "m = mag2exp.moke._M_to_r(M)\n",
    "k_s_r = -np.real(m[..., 1, 0]/m[..., 0, 0])\n",
    "k_p_r = np.real(m[..., 0, 1]/m[..., 1, 1])\n",
    "k_s_i = -np.imag(m[..., 1, 0]/m[..., 0, 0]) * k_s_r\n",
    "k_p_i = np.imag(m[..., 0, 1]/m[..., 1, 1]) / k_p_r\n",
    "\n",
    "k_s = k_s_r + 1j * k_s_i\n",
    "k_p = k_p_r + 1j * k_p_i"
   ]
  },
  {
   "cell_type": "code",
   "execution_count": null,
   "id": "bc15ea74",
   "metadata": {},
   "outputs": [],
   "source": [
    "k_s2 = -m[..., 1, 0]/m[..., 0, 0]\n",
    "k_s2[0,0]"
   ]
  },
  {
   "cell_type": "code",
   "execution_count": null,
   "id": "a8bf0a8a",
   "metadata": {},
   "outputs": [],
   "source": [
    "k_s[0,0]"
   ]
  },
  {
   "cell_type": "code",
   "execution_count": null,
   "id": "49958c81",
   "metadata": {},
   "outputs": [],
   "source": [
    "k_p2 = -m[..., 0, 1]/m[..., 1, 1]\n",
    "k_p2[0,0]"
   ]
  },
  {
   "cell_type": "code",
   "execution_count": null,
   "id": "9dd1bd03",
   "metadata": {},
   "outputs": [],
   "source": [
    "k_p[0,0]"
   ]
  },
  {
   "cell_type": "code",
   "execution_count": null,
   "id": "fa88555a",
   "metadata": {},
   "outputs": [],
   "source": [
    "k_a = np.stack([k_s, k_p], axis=-1)"
   ]
  },
  {
   "cell_type": "code",
   "execution_count": null,
   "id": "f27198b7",
   "metadata": {},
   "outputs": [],
   "source": [
    "k_a[:,:,np.newaxis,:].shape"
   ]
  },
  {
   "cell_type": "code",
   "execution_count": null,
   "id": "43cccf96",
   "metadata": {},
   "outputs": [],
   "source": [
    "(*m.shape[0:2], 1)"
   ]
  },
  {
   "cell_type": "code",
   "execution_count": null,
   "id": "649fea1b",
   "metadata": {},
   "outputs": [],
   "source": [
    "E_f.reshape((60,60,1,2))"
   ]
  },
  {
   "cell_type": "code",
   "execution_count": null,
   "id": "2fde2eea",
   "metadata": {},
   "outputs": [],
   "source": [
    "system.m"
   ]
  },
  {
   "cell_type": "code",
   "execution_count": null,
   "id": "9cd82ff1",
   "metadata": {},
   "outputs": [],
   "source": [
    "E_f = mag2exp.moke.e_field(system.m, 0, 2, 1, 600e-9, [1, 1j])"
   ]
  },
  {
   "cell_type": "code",
   "execution_count": null,
   "id": "f97165a2",
   "metadata": {},
   "outputs": [],
   "source": [
    "E_f.components"
   ]
  },
  {
   "cell_type": "code",
   "execution_count": null,
   "id": "dbb303c3",
   "metadata": {},
   "outputs": [],
   "source": []
  }
 ],
 "metadata": {
  "kernelspec": {
   "display_name": "ubermagdev",
   "language": "python",
   "name": "ubermagdev"
  },
  "language_info": {
   "codemirror_mode": {
    "name": "ipython",
    "version": 3
   },
   "file_extension": ".py",
   "mimetype": "text/x-python",
   "name": "python",
   "nbconvert_exporter": "python",
   "pygments_lexer": "ipython3",
   "version": "3.9.6"
  }
 },
 "nbformat": 4,
 "nbformat_minor": 5
}
